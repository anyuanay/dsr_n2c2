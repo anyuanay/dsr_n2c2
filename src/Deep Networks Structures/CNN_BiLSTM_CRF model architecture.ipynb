{
 "cells": [
  {
   "cell_type": "markdown",
   "metadata": {
    "id": "QY8ihRwr2DyI"
   },
   "source": [
    "# N2C2 Challege CNN-BiLSTM-CRF Model"
   ]
  },
  {
   "cell_type": "markdown",
   "metadata": {
    "id": "QY8ihRwr2DyI"
   },
   "source": [
    "## Importing Libraries"
   ]
  },
  {
   "cell_type": "code",
   "execution_count": 1,
   "metadata": {
    "colab": {
     "base_uri": "https://localhost:8080/"
    },
    "id": "7qqcFRNMt6I9",
    "outputId": "ff569e39-8081-452a-87c6-85a85d3f1543"
   },
   "outputs": [
    {
     "name": "stderr",
     "output_type": "stream",
     "text": [
      "Using TensorFlow backend.\n"
     ]
    }
   ],
   "source": [
    "## Importing all required packages\n",
    "import pandas as pd\n",
    "import numpy as np\n",
    "import matplotlib.pyplot as plt\n",
    "import keras  # keras版本 2.3.1"
   ]
  },
  {
   "cell_type": "code",
   "execution_count": 2,
   "metadata": {
    "id": "2dRS_GfGzQaq"
   },
   "outputs": [],
   "source": [
    "import tensorflow as tf  # tensorflow版本 2.0.0"
   ]
  },
  {
   "cell_type": "markdown",
   "metadata": {
    "id": "VoMVidcG1976"
   },
   "source": [
    "## Loading Data"
   ]
  },
  {
   "cell_type": "code",
   "execution_count": 3,
   "metadata": {
    "id": "DHWcX_d0w1WU"
   },
   "outputs": [],
   "source": [
    "# 读入train和dev，将空的word去掉\n",
    "train_data = pd.read_csv(\"train.csv\", encoding=\"iso-8859-1\", header=0, index_col=0).dropna(subset=['Word'])\n",
    "dev_data = pd.read_csv(\"dev.csv\", encoding=\"iso-8859-1\", header=0, index_col=0).dropna(subset=['Word'])\n",
    "# test_data = pd.read_csv(\"test.csv\", encoding=\"iso-8859-1\", header=0, index_col=0).dropna(subset=['Word'])"
   ]
  },
  {
   "cell_type": "code",
   "execution_count": 4,
   "metadata": {},
   "outputs": [],
   "source": [
    "#  只取Sentenceid，word，pos，label （实际上POS还未应用到模型中，这样做为了方便日后更新模型，加入POS）\n",
    "train_data = train_data[['SentenceId', 'Word', 'POS', 'Label']]\n",
    "dev_data = dev_data[['SentenceId', 'Word', 'POS', 'Label']]\n",
    "train_data.columns = ['Sentence #','Word', 'Pos', 'Tag']\n",
    "dev_data.columns = ['Sentence #','Word', 'Pos', 'Tag']"
   ]
  },
  {
   "cell_type": "code",
   "execution_count": 5,
   "metadata": {
    "colab": {
     "base_uri": "https://localhost:8080/",
     "height": 206
    },
    "id": "q-pSg_8vzcgS",
    "outputId": "e8d4d5b4-792d-4d2b-e672-580b918330ad"
   },
   "outputs": [],
   "source": [
    "# 去掉所有的O（这是错误的）\n",
    "train_data = train_data[train_data.Tag != 'O']\n",
    "dev_data = dev_data[dev_data.Tag != 'O']"
   ]
  },
  {
   "cell_type": "code",
   "execution_count": 6,
   "metadata": {},
   "outputs": [
    {
     "data": {
      "text/html": [
       "<div>\n",
       "<style scoped>\n",
       "    .dataframe tbody tr th:only-of-type {\n",
       "        vertical-align: middle;\n",
       "    }\n",
       "\n",
       "    .dataframe tbody tr th {\n",
       "        vertical-align: top;\n",
       "    }\n",
       "\n",
       "    .dataframe thead th {\n",
       "        text-align: right;\n",
       "    }\n",
       "</style>\n",
       "<table border=\"1\" class=\"dataframe\">\n",
       "  <thead>\n",
       "    <tr style=\"text-align: right;\">\n",
       "      <th></th>\n",
       "      <th>Sentence #</th>\n",
       "      <th>Word</th>\n",
       "      <th>Pos</th>\n",
       "      <th>Tag</th>\n",
       "    </tr>\n",
       "    <tr>\n",
       "      <th>notesId</th>\n",
       "      <th></th>\n",
       "      <th></th>\n",
       "      <th></th>\n",
       "      <th></th>\n",
       "    </tr>\n",
       "  </thead>\n",
       "  <tbody>\n",
       "    <tr>\n",
       "      <th>101-01</th>\n",
       "      <td>101-01_13</td>\n",
       "      <td>Lipitor</td>\n",
       "      <td>PROPN</td>\n",
       "      <td>B</td>\n",
       "    </tr>\n",
       "    <tr>\n",
       "      <th>101-01</th>\n",
       "      <td>101-01_40</td>\n",
       "      <td>Synthroid</td>\n",
       "      <td>PROPN</td>\n",
       "      <td>B</td>\n",
       "    </tr>\n",
       "    <tr>\n",
       "      <th>101-02</th>\n",
       "      <td>101-02_14</td>\n",
       "      <td>Hydrochlorothiazide</td>\n",
       "      <td>PROPN</td>\n",
       "      <td>B</td>\n",
       "    </tr>\n",
       "    <tr>\n",
       "      <th>101-02</th>\n",
       "      <td>101-02_14</td>\n",
       "      <td>atenolol</td>\n",
       "      <td>NOUN</td>\n",
       "      <td>B</td>\n",
       "    </tr>\n",
       "    <tr>\n",
       "      <th>101-02</th>\n",
       "      <td>101-02_29</td>\n",
       "      <td>hydrochlorothiazide</td>\n",
       "      <td>ADJ</td>\n",
       "      <td>B</td>\n",
       "    </tr>\n",
       "  </tbody>\n",
       "</table>\n",
       "</div>"
      ],
      "text/plain": [
       "        Sentence #                 Word    Pos Tag\n",
       "notesId                                           \n",
       "101-01   101-01_13              Lipitor  PROPN   B\n",
       "101-01   101-01_40            Synthroid  PROPN   B\n",
       "101-02   101-02_14  Hydrochlorothiazide  PROPN   B\n",
       "101-02   101-02_14             atenolol   NOUN   B\n",
       "101-02   101-02_29  hydrochlorothiazide    ADJ   B"
      ]
     },
     "execution_count": 6,
     "metadata": {},
     "output_type": "execute_result"
    }
   ],
   "source": [
    "train_data.head()"
   ]
  },
  {
   "cell_type": "code",
   "execution_count": 7,
   "metadata": {
    "colab": {
     "base_uri": "https://localhost:8080/"
    },
    "id": "Iwb5-IdV0o2m",
    "outputId": "7f6beafc-bd73-4226-c270-2debb0ddbd76"
   },
   "outputs": [
    {
     "data": {
      "text/plain": [
       "((6800, 4), (0, 4))"
      ]
     },
     "execution_count": 7,
     "metadata": {},
     "output_type": "execute_result"
    }
   ],
   "source": [
    "train_data.shape, dev_data.shape"
   ]
  },
  {
   "cell_type": "code",
   "execution_count": 8,
   "metadata": {},
   "outputs": [],
   "source": [
    "# 手动split\n",
    "# shuffle the dataset \n",
    "shuffled = train_data.sample(frac=1, random_state=20)\n",
    "\n",
    "# define a size for the train set \n",
    "train_size = int(0.9 * len(train_data))\n",
    "\n",
    "# split the data into train and test \n",
    "train_data = shuffled[:train_size]\n",
    "dev_data = shuffled[train_size:]"
   ]
  },
  {
   "cell_type": "code",
   "execution_count": 9,
   "metadata": {
    "colab": {
     "base_uri": "https://localhost:8080/"
    },
    "id": "Iwb5-IdV0o2m",
    "outputId": "7f6beafc-bd73-4226-c270-2debb0ddbd76"
   },
   "outputs": [
    {
     "data": {
      "text/plain": [
       "((6120, 4), (680, 4))"
      ]
     },
     "execution_count": 9,
     "metadata": {},
     "output_type": "execute_result"
    }
   ],
   "source": [
    "train_data.shape, dev_data.shape"
   ]
  },
  {
   "cell_type": "markdown",
   "metadata": {
    "id": "-ftQWD9e2L9Y"
   },
   "source": [
    "## Constructing Word to Index and Tag to Index Mappings"
   ]
  },
  {
   "cell_type": "markdown",
   "metadata": {},
   "source": [
    "该部分详细请参见安老师的代码：NER_BiLSTM_CRF_annotated_corpus_NER"
   ]
  },
  {
   "cell_type": "code",
   "execution_count": 10,
   "metadata": {
    "id": "rOHQvK8W1rTj"
   },
   "outputs": [],
   "source": [
    "def to_tuples(data):\n",
    "    iterator = zip(data[\"Word\"].values.tolist(),\n",
    "                   data[\"Pos\"].values.tolist(),\n",
    "                   data[\"Tag\"].values.tolist())\n",
    "    return [(word, pos, tag) for word, pos, tag in iterator]"
   ]
  },
  {
   "cell_type": "code",
   "execution_count": 11,
   "metadata": {},
   "outputs": [],
   "source": [
    "# 将每个word作为向量，向量元素为其包含的char的index\n",
    "def char(sentences, char2index):\n",
    "    char_X = [[[char for char in word[0]] for word in sentence] for sentence in sentences]\n",
    "    char_X = [[[char2index[char] if char in char2index.keys() else char2index[\"--UNKNOWN_CHAR--\"] for char in word] for word in sentence] for sentence in char_X]\n",
    "    char_X = [sentence + [[char2index[\"--PADDING--\"]]] * (MAX_SENTENCE - len(sentence)) for sentence in char_X]\n",
    "    char_X = [[word + [char2index[\"--PADDING--\"]] * (MAX_CHAR - len(word)) for word in sentence] for sentence in char_X]\n",
    "    \n",
    "    return np.array(char_X)"
   ]
  },
  {
   "cell_type": "code",
   "execution_count": 12,
   "metadata": {},
   "outputs": [],
   "source": [
    "def word(sentences, word2index):\n",
    "    word_X = [[word[0] for word in sentence] for sentence in sentences]\n",
    "    word_X = [[word2index[word] for word in sentence] for sentence in word_X]\n",
    "    word_X = [sentence + [word2index[\"--PADDING--\"]] * (MAX_SENTENCE - len(sentence)) for sentence in word_X]\n",
    "    \n",
    "    return np.array(word_X)"
   ]
  },
  {
   "cell_type": "code",
   "execution_count": 13,
   "metadata": {},
   "outputs": [],
   "source": [
    "def tag(sentences, tag2index):\n",
    "    y = [[word[2] for word in sentence] for sentence in sentences]\n",
    "    y = [[tag2index[tag] for tag in sentence] for sentence in y]\n",
    "    y = [sentence + [tag2index[\"--PADDING--\"]] * (MAX_SENTENCE - len(sentence)) for sentence in y]\n",
    "    TAG_COUNT = len(tag2index)\n",
    "    y = [ np.eye(TAG_COUNT)[sentence] for sentence in y]\n",
    "    \n",
    "    return np.array(y)"
   ]
  },
  {
   "cell_type": "code",
   "execution_count": 14,
   "metadata": {},
   "outputs": [],
   "source": [
    "MAX_CHAR = train_data.Word.apply(len).max()\n",
    "MAX_SENTENCE = train_data.groupby(\"Sentence #\")[\"Word\"].agg([\"count\"]).max()[0]\n",
    "# 自己建的char库，可修改\n",
    "all_chars = \" 0123456789abcdefghijklmnopqrstuvwxyzABCDEFGHIJKLMNOPQRSTUVWXYZ.,-_()[]{}!?:;#'\\\"/\\\\%$`&=*+@^~|\"  \n",
    "# word和Tag库即为数据集里所有出现的word和tag\n",
    "all_words = list(set(train_data[\"Word\"].values).union(dev_data[\"Word\"].values))\n",
    "all_tags = list(set(train_data[\"Tag\"].values).union(dev_data[\"Tag\"].values))\n",
    "\n",
    "char2index = {char: idx + 2 for idx, char in enumerate(all_chars)}\n",
    "char2index[\"--UNKNOWN_CHAR--\"]=0\n",
    "char2index[\"--PADDING--\"]=1\n",
    "index2char = {idx: char for char, idx in char2index.items()}\n",
    "\n",
    "word2index = {word: idx + 2 for idx, word in enumerate(all_words)}\n",
    "word2index[\"--UNKNOWN_WORD--\"]=0\n",
    "word2index[\"--PADDING--\"]=1\n",
    "index2word = {idx: word for word, idx in word2index.items()}\n",
    "\n",
    "tag2index = {tag: idx + 1 for idx, tag in enumerate(all_tags)}\n",
    "tag2index[\"--PADDING--\"] = 0\n",
    "index2tag = {idx: word for word, idx in tag2index.items()}\n",
    "\n",
    "sentences_train = train_data.groupby(\"Sentence #\").apply(to_tuples).tolist()\n",
    "sentences_dev = dev_data.groupby(\"Sentence #\").apply(to_tuples).tolist()\n",
    "# sentences_test = test_data.groupby(\"Sentence #\").apply(to_tuples).tolist()\n",
    "\n",
    "char_train = char(sentences_train, char2index)\n",
    "word_train = word(sentences_train, word2index)\n",
    "y_train = tag(sentences_train, tag2index)\n",
    "\n",
    "char_dev = char(sentences_dev, char2index)\n",
    "word_dev = word(sentences_dev, word2index)\n",
    "y_dev = tag(sentences_dev, tag2index)\n",
    "# char_test = char(sentences_test, char2index)\n",
    "# word_test = word(sentences_test, word2index)\n",
    "# y_test = tag(sentences_test, tag2index)"
   ]
  },
  {
   "cell_type": "code",
   "execution_count": 15,
   "metadata": {
    "colab": {
     "base_uri": "https://localhost:8080/"
    },
    "id": "xTSTH-Gbfkx3",
    "outputId": "4c0fe65d-168e-4719-d2f7-5b2098f156b7"
   },
   "outputs": [
    {
     "data": {
      "text/plain": [
       "((3505, 18),\n",
       " (602, 18),\n",
       " (3505, 18, 24),\n",
       " (602, 18, 24),\n",
       " (3505, 18, 3),\n",
       " (602, 18, 3))"
      ]
     },
     "execution_count": 15,
     "metadata": {},
     "output_type": "execute_result"
    }
   ],
   "source": [
    "# word_train.shape, word_test.shape, char_train.shape, char_test.shape, y_train.shape, y_test.shape\n",
    "word_train.shape, word_dev.shape, char_train.shape, char_dev.shape, y_train.shape, y_dev.shape"
   ]
  },
  {
   "cell_type": "code",
   "execution_count": 16,
   "metadata": {
    "id": "C_417Tcc58zT"
   },
   "outputs": [],
   "source": [
    "CHAR_COUNT = len(all_chars) + 2\n",
    "WORD_COUNT = len(all_words) + 2\n",
    "TAG_COUNT = len(all_tags) + 1\n",
    "CHAR_EMBEDDING = 25\n",
    "WORD_EMBEDDING = 50\n",
    "FILTERS_NUMBER = 30\n",
    "WINDOW_SIZE = 3\n",
    "LSTM_UNITS = 50\n",
    "LSTM_DROPOUT = 0.1\n",
    "DENSE_UNITS = 100\n",
    "BATCH_SIZE = 20\n",
    "MAX_EPOCHS = 20"
   ]
  },
  {
   "cell_type": "code",
   "execution_count": 17,
   "metadata": {
    "colab": {
     "base_uri": "https://localhost:8080/"
    },
    "id": "ZMshtJYYjrsG",
    "outputId": "06f8397b-43b9-4da8-d25f-163b6c2da3e9"
   },
   "outputs": [
    {
     "name": "stderr",
     "output_type": "stream",
     "text": [
      "2022-04-01 00:06:31.073822: I tensorflow/core/platform/cpu_feature_guard.cc:145] This TensorFlow binary is optimized with Intel(R) MKL-DNN to use the following CPU instructions in performance critical operations:  SSE4.1 SSE4.2\n",
      "To enable them in non-MKL-DNN operations, rebuild TensorFlow with the appropriate compiler flags.\n",
      "2022-04-01 00:06:31.074555: I tensorflow/core/common_runtime/process_util.cc:115] Creating new thread pool with default inter op setting: 8. Tune using inter_op_parallelism_threads for best performance.\n"
     ]
    },
    {
     "name": "stdout",
     "output_type": "stream",
     "text": [
      "Model: \"CNN_BiLSTM_CRF\"\n",
      "__________________________________________________________________________________________________\n",
      "Layer (type)                    Output Shape         Param #     Connected to                     \n",
      "==================================================================================================\n",
      "char_input (InputLayer)         (None, 18, 24)       0                                            \n",
      "__________________________________________________________________________________________________\n",
      "char_embedding (TimeDistributed (None, 18, 24, 25)   2375        char_input[0][0]                 \n",
      "__________________________________________________________________________________________________\n",
      "char_conv (TimeDistributed)     (None, 18, 24, 30)   2280        char_embedding[0][0]             \n",
      "__________________________________________________________________________________________________\n",
      "word_input (InputLayer)         (None, 18)           0                                            \n",
      "__________________________________________________________________________________________________\n",
      "char_pooling (TimeDistributed)  (None, 18, 1, 30)    0           char_conv[0][0]                  \n",
      "__________________________________________________________________________________________________\n",
      "word_embedding (Embedding)      (None, 18, 50)       74750       word_input[0][0]                 \n",
      "__________________________________________________________________________________________________\n",
      "flatten (TimeDistributed)       (None, 18, 30)       0           char_pooling[0][0]               \n",
      "__________________________________________________________________________________________________\n",
      "concatenate (Concatenate)       (None, 18, 80)       0           word_embedding[0][0]             \n",
      "                                                                 flatten[0][0]                    \n",
      "__________________________________________________________________________________________________\n",
      "drop_out (Dropout)              (None, 18, 80)       0           concatenate[0][0]                \n",
      "__________________________________________________________________________________________________\n",
      "BiLSTM (Bidirectional)          (None, 18, 100)      52400       drop_out[0][0]                   \n",
      "__________________________________________________________________________________________________\n",
      "dense (TimeDistributed)         (None, 18, 100)      10100       BiLSTM[0][0]                     \n",
      "__________________________________________________________________________________________________\n",
      "CRF (CRF)                       (None, 18, 3)        318         dense[0][0]                      \n",
      "==================================================================================================\n",
      "Total params: 142,223\n",
      "Trainable params: 142,223\n",
      "Non-trainable params: 0\n",
      "__________________________________________________________________________________________________\n"
     ]
    }
   ],
   "source": [
    "from keras.models import Model, Input\n",
    "from keras.layers import LSTM, Embedding, Dense, TimeDistributed, Dropout, Bidirectional\n",
    "from keras_contrib.layers import CRF\n",
    "from keras_contrib import losses, metrics\n",
    "from keras import layers, optimizers\n",
    "# Model definition\n",
    "char_input = layers.Input(shape=(MAX_SENTENCE, MAX_CHAR,), name='char_input')  \n",
    "# (sample, sentence, words)\n",
    "char_embedding = layers.TimeDistributed(layers.Embedding(CHAR_COUNT, CHAR_EMBEDDING), name='char_embedding', input_shape=(MAX_SENTENCE, MAX_CHAR))(char_input)\n",
    "# (sample, sentence, words, embedding)\n",
    "char_cnn = layers.TimeDistributed(layers.Conv1D(FILTERS_NUMBER, WINDOW_SIZE, activation='tanh', padding='same'), name='char_conv')(char_embedding)\n",
    "# (sample, sentence, words, 30)\n",
    "char_pooling = layers.TimeDistributed(layers.MaxPool1D(pool_size=int(MAX_CHAR)), name='char_pooling')(char_cnn)\n",
    "# (sample, sentence, 30)\n",
    "char = TimeDistributed(layers.Flatten(), name='flatten')(char_pooling)\n",
    "\n",
    "word_input = layers.Input(shape=(MAX_SENTENCE,), name='word_input')\n",
    "\n",
    "word_embedding = layers.Embedding(WORD_COUNT, WORD_EMBEDDING, input_length=MAX_SENTENCE, name='word_embedding')(word_input)\n",
    "\n",
    "concatenated = layers.concatenate([word_embedding, char], axis=-1, name='concatenate')\n",
    "\n",
    "model = layers.Dropout(rate=0.5, name=\"drop_out\")(concatenated)\n",
    "\n",
    "model = layers.Bidirectional(layers.LSTM(LSTM_UNITS, recurrent_dropout=LSTM_DROPOUT, return_sequences=True), name='BiLSTM')(model)\n",
    "\n",
    "model = layers.TimeDistributed(layers.Dense(DENSE_UNITS, activation=\"relu\"), name='dense')(model)\n",
    "\n",
    "crf_layer = CRF(units=TAG_COUNT, name='CRF')\n",
    "output_layer = crf_layer(model)\n",
    "\n",
    "ner_model = Model([char_input, word_input], output_layer, name='CNN_BiLSTM_CRF')\n",
    "\n",
    "loss = losses.crf_loss\n",
    "acc_metric = metrics.crf_accuracy\n",
    "opt = optimizers.Adam(lr=0.001)\n",
    "\n",
    "ner_model.compile(optimizer=opt, loss=loss, metrics=[acc_metric])\n",
    "\n",
    "ner_model.summary()"
   ]
  },
  {
   "cell_type": "code",
   "execution_count": 18,
   "metadata": {
    "colab": {
     "base_uri": "https://localhost:8080/"
    },
    "id": "sd3mExuYyCVP",
    "outputId": "c7ce9805-2776-42e7-e40d-531a5989fee9"
   },
   "outputs": [
    {
     "name": "stderr",
     "output_type": "stream",
     "text": [
      "/Users/DELL/opt/anaconda3/envs/tensorflow2/lib/python3.7/site-packages/tensorflow_core/python/framework/indexed_slices.py:424: UserWarning: Converting sparse IndexedSlices to a dense Tensor of unknown shape. This may consume a large amount of memory.\n",
      "  \"Converting sparse IndexedSlices to a dense Tensor of unknown shape. \"\n"
     ]
    },
    {
     "name": "stdout",
     "output_type": "stream",
     "text": [
      "Train on 3505 samples, validate on 602 samples\n",
      "Epoch 1/20\n",
      " - 21s - loss: 0.1384 - crf_accuracy: 0.9446 - val_loss: 0.0164 - val_crf_accuracy: 0.9917\n",
      "Epoch 2/20\n",
      " - 17s - loss: 0.0169 - crf_accuracy: 0.9911 - val_loss: 0.0024 - val_crf_accuracy: 0.9948\n",
      "Epoch 3/20\n",
      " - 17s - loss: -1.9958e-03 - crf_accuracy: 0.9968 - val_loss: -3.6775e-03 - val_crf_accuracy: 0.9965\n",
      "Epoch 4/20\n",
      " - 15s - loss: -1.0966e-02 - crf_accuracy: 0.9978 - val_loss: -1.0027e-02 - val_crf_accuracy: 0.9960\n",
      "Epoch 5/20\n",
      " - 16s - loss: -1.8410e-02 - crf_accuracy: 0.9982 - val_loss: -1.7326e-02 - val_crf_accuracy: 0.9960\n",
      "Epoch 6/20\n",
      " - 16s - loss: -2.4918e-02 - crf_accuracy: 0.9983 - val_loss: -2.3295e-02 - val_crf_accuracy: 0.9960\n",
      "Epoch 7/20\n",
      " - 16s - loss: -3.2363e-02 - crf_accuracy: 0.9984 - val_loss: -2.9964e-02 - val_crf_accuracy: 0.9960\n",
      "Epoch 8/20\n",
      " - 17s - loss: -4.0229e-02 - crf_accuracy: 0.9986 - val_loss: -3.6547e-02 - val_crf_accuracy: 0.9961\n",
      "Epoch 9/20\n",
      " - 17s - loss: -4.8442e-02 - crf_accuracy: 0.9984 - val_loss: -4.6054e-02 - val_crf_accuracy: 0.9961\n",
      "Epoch 10/20\n",
      " - 16s - loss: -5.6506e-02 - crf_accuracy: 0.9987 - val_loss: -5.2324e-02 - val_crf_accuracy: 0.9961\n",
      "Epoch 11/20\n",
      " - 15s - loss: -6.5097e-02 - crf_accuracy: 0.9986 - val_loss: -6.2657e-02 - val_crf_accuracy: 0.9959\n",
      "Epoch 12/20\n",
      " - 16s - loss: -7.3744e-02 - crf_accuracy: 0.9986 - val_loss: -7.1324e-02 - val_crf_accuracy: 0.9960\n",
      "Epoch 13/20\n",
      " - 16s - loss: -8.2845e-02 - crf_accuracy: 0.9988 - val_loss: -8.0422e-02 - val_crf_accuracy: 0.9958\n",
      "Epoch 14/20\n",
      " - 15s - loss: -9.1829e-02 - crf_accuracy: 0.9987 - val_loss: -8.9791e-02 - val_crf_accuracy: 0.9960\n",
      "Epoch 15/20\n",
      " - 16s - loss: -1.0102e-01 - crf_accuracy: 0.9988 - val_loss: -9.6532e-02 - val_crf_accuracy: 0.9960\n",
      "Epoch 16/20\n",
      " - 20s - loss: -1.1010e-01 - crf_accuracy: 0.9988 - val_loss: -1.0741e-01 - val_crf_accuracy: 0.9959\n",
      "Epoch 17/20\n",
      " - 15s - loss: -1.1961e-01 - crf_accuracy: 0.9988 - val_loss: -1.1527e-01 - val_crf_accuracy: 0.9959\n",
      "Epoch 18/20\n",
      " - 15s - loss: -1.2918e-01 - crf_accuracy: 0.9988 - val_loss: -1.2502e-01 - val_crf_accuracy: 0.9959\n",
      "Epoch 19/20\n",
      " - 16s - loss: -1.3861e-01 - crf_accuracy: 0.9990 - val_loss: -1.3615e-01 - val_crf_accuracy: 0.9960\n",
      "Epoch 20/20\n",
      " - 16s - loss: -1.4789e-01 - crf_accuracy: 0.9989 - val_loss: -1.4437e-01 - val_crf_accuracy: 0.9960\n",
      "CPU times: user 16min 45s, sys: 15min 4s, total: 31min 49s\n",
      "Wall time: 5min 29s\n"
     ]
    }
   ],
   "source": [
    "%%time\n",
    "history = ner_model.fit([char_train, word_train], y_train, \n",
    "                        batch_size=BATCH_SIZE, epochs=MAX_EPOCHS, \n",
    "                        validation_data=([char_dev, word_dev], y_dev), \n",
    "                        verbose=2)"
   ]
  },
  {
   "cell_type": "markdown",
   "metadata": {},
   "source": [
    "# History"
   ]
  },
  {
   "cell_type": "code",
   "execution_count": 19,
   "metadata": {},
   "outputs": [
    {
     "data": {
      "text/plain": [
       "(<Figure size 720x360 with 2 Axes>,\n",
       " array([<AxesSubplot:title={'center':'Loss'}, xlabel='Epochs', ylabel='Loss'>,\n",
       "        <AxesSubplot:title={'center':'CRF Accuracy'}, xlabel='Epochs', ylabel='CRF Accuracy'>],\n",
       "       dtype=object))"
      ]
     },
     "execution_count": 19,
     "metadata": {},
     "output_type": "execute_result"
    },
    {
     "data": {
      "image/png": "[encoded data removed]",
      "text/plain": [
       "<Figure size 720x360 with 2 Axes>"
      ]
     },
     "metadata": {
      "needs_background": "light"
     },
     "output_type": "display_data"
    }
   ],
   "source": [
    "from plot_keras_history import plot_history\n",
    "plot_history(history.history)"
   ]
  },
  {
   "cell_type": "code",
   "execution_count": 20,
   "metadata": {},
   "outputs": [
    {
     "data": {
      "image/png": "[encoded data removed]",
      "text/plain": [
       "<Figure size 432x288 with 1 Axes>"
      ]
     },
     "metadata": {
      "needs_background": "light"
     },
     "output_type": "display_data"
    }
   ],
   "source": [
    "# Plot training & validation accuracy values\n",
    "plt.plot(history.history['crf_accuracy'])\n",
    "plt.plot(history.history['val_crf_accuracy'])\n",
    "plt.title('Model accuracy')\n",
    "plt.ylabel('Accuracy')\n",
    "plt.xlabel('Epoch')\n",
    "plt.legend(['Train', 'Test'])\n",
    "plt.show()"
   ]
  },
  {
   "cell_type": "code",
   "execution_count": 21,
   "metadata": {},
   "outputs": [
    {
     "data": {
      "image/png": "[encoded data removed]",
      "text/plain": [
       "<Figure size 432x288 with 1 Axes>"
      ]
     },
     "metadata": {
      "needs_background": "light"
     },
     "output_type": "display_data"
    }
   ],
   "source": [
    "# Plot training & validation loss values\n",
    "plt.plot(history.history['loss'])\n",
    "plt.plot(history.history['val_loss'])\n",
    "plt.title('Model loss')\n",
    "plt.ylabel('Loss')\n",
    "plt.xlabel('Epoch')\n",
    "plt.legend(['Train', 'Test'], loc='upper left')\n",
    "plt.show()"
   ]
  },
  {
   "cell_type": "code",
   "execution_count": null,
   "metadata": {},
   "outputs": [],
   "source": []
  },
  {
   "cell_type": "markdown",
   "metadata": {},
   "source": [
    "# Evaluation"
   ]
  },
  {
   "cell_type": "code",
   "execution_count": null,
   "metadata": {},
   "outputs": [],
   "source": []
  }
 ],
 "metadata": {
  "accelerator": "GPU",
  "colab": {
   "authorship_tag": "ABX9TyNFUJWGbq4zF7BKAsIIdDBm",
   "collapsed_sections": [],
   "include_colab_link": true,
   "mount_file_id": "1w_182Yd9Y-oGBfj6t6OMnpBpvDah32rN",
   "name": "NER-BiLSTM-CRF-annotated-corpus-NER.ipynb",
   "provenance": []
  },
  "kernelspec": {
   "display_name": "Python 3 (ipykernel)",
   "language": "python",
   "name": "python3"
  },
  "language_info": {
   "codemirror_mode": {
    "name": "ipython",
    "version": 3
   },
   "file_extension": ".py",
   "mimetype": "text/x-python",
   "name": "python",
   "nbconvert_exporter": "python",
   "pygments_lexer": "ipython3",
   "version": "3.7.0"
  }
 },
 "nbformat": 4,
 "nbformat_minor": 1
}
