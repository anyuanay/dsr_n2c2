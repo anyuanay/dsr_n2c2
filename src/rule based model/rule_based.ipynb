{
  "nbformat": 4,
  "nbformat_minor": 0,
  "metadata": {
    "colab": {
      "name": "rule based.ipynb",
      "provenance": []
    },
    "kernelspec": {
      "name": "python3",
      "display_name": "Python 3"
    },
    "language_info": {
      "name": "python"
    }
  },
  "cells": [
    {
      "cell_type": "code",
      "execution_count": 1,
      "metadata": {
        "id": "L6YXLVt_rTv-"
      },
      "outputs": [],
      "source": [
        "import pandas as pd\n",
        "import numpy as np\n",
        "\n",
        "from sklearn.preprocessing import LabelEncoder\n",
        "\n",
        "import math\n",
        "\n",
        "import tensorflow as tf\n",
        "\n",
        "from tensorflow import keras \n",
        "\n",
        "from keras import layers, optimizers\n",
        "\n",
        "\n",
        "from sklearn.preprocessing import MinMaxScaler\n",
        "from sklearn.preprocessing import StandardScaler\n",
        "from sklearn.decomposition import PCA\n",
        "import mglearn\n",
        "from sklearn.manifold import TSNE\n",
        "import matplotlib.pyplot as plt   "
      ]
    },
    {
      "cell_type": "markdown",
      "source": [
        "Convert all categorical features' values into integers"
      ],
      "metadata": {
        "id": "H6ho8Lw3tO_7"
      }
    },
    {
      "cell_type": "code",
      "source": [
        "#pass the train df into this function \n",
        "def labelconvert(df):\n",
        "  df=df.drop(['Label','Section','POS','TAG','DEP','Shape','Is_Alpha','Is_Stop','HEAD_POS','CHILDREN_LEN'],axis=1)\n",
        "  encoder=LabelEncoder()\n",
        "  encoder.fit(df['Section'])\n",
        "  df['Section_enc']=encoder.transform(df['Section'])\n",
        "  encoder.fit(df['POS'])\n",
        "  df['POS_enc']=encoder.transform(df['POS'])\n",
        "  encoder.fit(df['Label'])\n",
        "  df['Label_enc']=encoder.transform(df['Label'])\n",
        "  encoder.fit(df['TAG'])\n",
        "  df['TAG_enc']=encoder.transform(df['TAG'])\n",
        "  encoder.fit(df['DEP'])\n",
        "  df['DEP_enc']=encoder.transform(df['DEP'])\n",
        "  encoder.fit(df['Shape'])\n",
        "  df['Shape_enc']=encoder.transform(df['Shape'])\n",
        "  encoder.fit(df['Is_Alpha'])\n",
        "  df['Is_Alpha_enc']=encoder.transform(df['Is_Alpha'])\n",
        "  encoder.fit(df['Is_Stop'])\n",
        "  df['Is_Stop_enc']=encoder.transform(df['Is_Stop'])\n",
        "  encoder.fit(df['HEAD_POS'])\n",
        "  df['HEAD_POS_enc']=encoder.transform(df['HEAD_POS'])\n",
        "  df=df.drop(['Section','POS','Label','TAG','DEP','Shape','Is_Alpha','Is_Stop','HEAD_POS'],axis=1)\n"
      ],
      "metadata": {
        "id": "uIucbkw8rdU7"
      },
      "execution_count": 2,
      "outputs": []
    },
    {
      "cell_type": "markdown",
      "source": [
        "PCA"
      ],
      "metadata": {
        "id": "rM3M1n89tKwr"
      }
    },
    {
      "cell_type": "code",
      "source": [
        "class Preprocessing(object):\n",
        "    @staticmethod\n",
        "    def Feature_visualization(df):\n",
        "        fig, axes = plt.subplots(math.ceil(len(df[\"feature_name\"])/2),2,figsize=(18,12))\n",
        "        negative = np.array([df[\"data\"][i] for i in range(len(df[\"target\"])) if df[\"target\"][i] == 0])\n",
        "        positive = np.array([df[\"data\"][i] for i in range(len(df[\"target\"])) if df[\"target\"][i] == 1])\n",
        "\n",
        "        ax = axes.ravel()\n",
        "        df[\"data\"] = np.array(df[\"data\"])\n",
        "        for i in range(len(df[\"feature_name\"])):\n",
        "            _, bins = np.histogram(df[\"data\"][:,i],bins = 50)\n",
        "            ax[i].hist(negative[:,i],bins=bins,alpha=.5)\n",
        "            ax[i].hist(positive[:,i],bins=bins,alpha=.5)\n",
        "            ax[i].set_title(df[\"feature_name\"][i])\n",
        "            ax[i].set_yticks(())\n",
        "        ax[0].set_ylabel(\"Frequency\")\n",
        "        ax[0].legend([\"Negative\", \"Positive\"], loc=\"best\")\n",
        "        fig.tight_layout()\n",
        "        return plt.show()\n",
        "\n",
        "    @staticmethod\n",
        "    def scale(df):\n",
        "        scaler = StandardScaler()\n",
        "        df[\"data\"] = np.array(df[\"data\"])\n",
        "        scaler.fit(df[\"data\"])\n",
        "        X_scaled = scaler.transform(df[\"data\"])\n",
        "        return X_scaled\n",
        "\n",
        "    @staticmethod\n",
        "    def PCA_scatter(X_scaled,df):\n",
        "        pca = PCA(n_components=2)\n",
        "        pca.fit(X_scaled)\n",
        "\n",
        "        X_pca = pca.transform(X_scaled)\n",
        "        plt.figure(figsize=(18,12))\n",
        "        mglearn.discrete_scatter(X_pca[:, 0], X_pca[:,1],df[\"target\"])\n",
        "        plt.legend([\"negative\",\"positive\"])\n",
        "        plt.gca().set_aspect(\"equal\")\n",
        "        plt.xlabel(\"First principal component\")\n",
        "        plt.ylabel(\"Second principal component\")\n",
        "        return plt.show()\n",
        "\n",
        "    @staticmethod\n",
        "    def PCA_heatmap(X_scaled,df):\n",
        "        pca = PCA(n_components=2)\n",
        "        pca.fit(X_scaled)\n",
        "        plt.matshow(pca.components_,cmap=\"viridis\")\n",
        "        plt.yticks([0,1],[\"First component\",\"Second component\"])\n",
        "        plt.colorbar()\n",
        "        plt.xticks(range(len(df[\"feature_name\"])),df[\"feature_name\"], rotation=60, ha=\"left\")\n",
        "        plt.xlabel(\"Feature\")\n",
        "        plt.ylabel(\"Principal components\")\n",
        "        return plt.show()\n",
        "\n",
        "    @staticmethod\n",
        "    def TSNE_scatter(df):\n",
        "        tsne = TSNE(random_state=42)\n",
        "        face_tsne = tsne.fit_transform(df[\"data\"])\n",
        "        plt.figure(figsize=(18,12))\n",
        "        plt.xlim(face_tsne[:,0].min(), face_tsne[:,0].max()+1)\n",
        "        plt.ylim(face_tsne[:,1].min(), face_tsne[:,1].max()+1)\n",
        "        for i in range(len(df[\"data\"])):\n",
        "            if df[\"target\"][i] == 1: plt.text(face_tsne[i,0],face_tsne[i,1],\n",
        "                        str(\"1\"),color=\"red\", fontdict= {\"weight\":\"bold\", \"size\":15})\n",
        "            else:plt.text(face_tsne[i,0],face_tsne[i,1],\n",
        "                        str(\"0\"),color='blue', fontdict= {\"weight\":\"bold\", \"size\":15})\n",
        "        plt.xlabel(\"t_SNE feature 0\")\n",
        "        plt.ylabel(\"t_SNE feature 1\")\n",
        "        return plt.show()\n",
        "\n"
      ],
      "metadata": {
        "id": "uysy_jy_s-MR"
      },
      "execution_count": 3,
      "outputs": []
    },
    {
      "cell_type": "code",
      "source": [
        ""
      ],
      "metadata": {
        "id": "DHYVrStwtNKI"
      },
      "execution_count": null,
      "outputs": []
    }
  ]
}