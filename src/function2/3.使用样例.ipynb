{
 "cells": [
  {
   "cell_type": "raw",
   "id": "bcebafc5",
   "metadata": {},
   "source": [
    "本extract_word_labels函数用于将病例文件中所有的词逐一分隔并标上annotation文件中所给定的标签\n",
    "所需要文件：\n",
    "1.函数本体：LabelExtraction.py文件\n",
    "2.储存有第一步函数结果的csv文件：df_from_fun1.csv\n",
    "3.df_label_I.csv文件\n",
    "4.df_label_B.csv文件\n",
    "将以上文件放入同一个文件夹中"
   ]
  },
  {
   "cell_type": "markdown",
   "id": "69d2481f",
   "metadata": {},
   "source": [
    "# 使用示例"
   ]
  },
  {
   "cell_type": "markdown",
   "id": "137f7825",
   "metadata": {},
   "source": [
    "从函数包LabelExtraction中导入函数extract_word_labels"
   ]
  },
  {
   "cell_type": "code",
   "execution_count": 9,
   "id": "67364fa6",
   "metadata": {},
   "outputs": [],
   "source": [
    "from LabelExtraction import extract_word_labels"
   ]
  },
  {
   "cell_type": "markdown",
   "id": "65941e23",
   "metadata": {},
   "source": [
    "前一个函数的结果为df"
   ]
  },
  {
   "cell_type": "markdown",
   "id": "a5f69a3f",
   "metadata": {},
   "source": [
    "运行函数，并将结果dataframe储存于df_result中"
   ]
  },
  {
   "cell_type": "code",
   "execution_count": 1,
   "id": "6844f02b",
   "metadata": {},
   "outputs": [
    {
     "ename": "NameError",
     "evalue": "name 'extract_word_labels' is not defined",
     "output_type": "error",
     "traceback": [
      "\u001b[1;31m---------------------------------------------------------------------------\u001b[0m",
      "\u001b[1;31mNameError\u001b[0m                                 Traceback (most recent call last)",
      "\u001b[1;32mc:\\Users\\Ziao\\Desktop\\n2c2\\codes\\3.使用样例.ipynb Cell 7'\u001b[0m in \u001b[0;36m<cell line: 1>\u001b[1;34m()\u001b[0m\n\u001b[1;32m----> <a href='vscode-notebook-cell:/c%3A/Users/Ziao/Desktop/n2c2/codes/3.%E4%BD%BF%E7%94%A8%E6%A0%B7%E4%BE%8B.ipynb#ch0000007?line=0'>1</a>\u001b[0m df_result \u001b[39m=\u001b[39m extract_word_labels(df)\n",
      "\u001b[1;31mNameError\u001b[0m: name 'extract_word_labels' is not defined"
     ]
    }
   ],
   "source": [
    "df_result = extract_word_labels(df)"
   ]
  },
  {
   "cell_type": "markdown",
   "id": "3de1aa39",
   "metadata": {},
   "source": [
    "结果展示"
   ]
  },
  {
   "cell_type": "code",
   "execution_count": 12,
   "id": "d4a96656",
   "metadata": {},
   "outputs": [
    {
     "data": {
      "text/plain": [
       "O    457\n",
       "B      2\n",
       "Name: Label, dtype: int64"
      ]
     },
     "execution_count": 12,
     "metadata": {},
     "output_type": "execute_result"
    }
   ],
   "source": [
    "df_result['Label'].value_counts()"
   ]
  },
  {
   "cell_type": "code",
   "execution_count": null,
   "id": "163b9dfd",
   "metadata": {},
   "outputs": [],
   "source": []
  }
 ],
 "metadata": {
  "kernelspec": {
   "display_name": "Python 3 (ipykernel)",
   "language": "python",
   "name": "python3"
  },
  "language_info": {
   "codemirror_mode": {
    "name": "ipython",
    "version": 3
   },
   "file_extension": ".py",
   "mimetype": "text/x-python",
   "name": "python",
   "nbconvert_exporter": "python",
   "pygments_lexer": "ipython3",
   "version": "3.10.2"
  }
 },
 "nbformat": 4,
 "nbformat_minor": 5
}
